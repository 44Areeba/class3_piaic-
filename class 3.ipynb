{
 "cells": [
  {
   "cell_type": "code",
   "execution_count": 1,
   "id": "d9913395",
   "metadata": {},
   "outputs": [
    {
     "name": "stdout",
     "output_type": "stream",
     "text": [
      "Tell me your good name sir! Areeba\n"
     ]
    }
   ],
   "source": [
    "name=input(\"Tell me your good name sir! \")"
   ]
  },
  {
   "cell_type": "code",
   "execution_count": 3,
   "id": "324c00cf",
   "metadata": {},
   "outputs": [
    {
     "name": "stdout",
     "output_type": "stream",
     "text": [
      "Areeba\n",
      "<class 'str'>\n"
     ]
    }
   ],
   "source": [
    "print(name)\n",
    "print (type(name))"
   ]
  },
  {
   "cell_type": "code",
   "execution_count": 5,
   "id": "a49d7681",
   "metadata": {},
   "outputs": [
    {
     "name": "stdout",
     "output_type": "stream",
     "text": [
      "Tell me your age19\n",
      "19\n",
      "<class 'str'>\n"
     ]
    }
   ],
   "source": [
    "age=input(\"Tell me your age\")\n",
    "print(age)\n",
    "print(type(age))"
   ]
  },
  {
   "cell_type": "code",
   "execution_count": 6,
   "id": "bf67ae48",
   "metadata": {},
   "outputs": [
    {
     "name": "stdout",
     "output_type": "stream",
     "text": [
      "Tell me your age 20,30\n"
     ]
    }
   ],
   "source": [
    "areeba,naz=input(\"Tell me your age \").split(',')"
   ]
  },
  {
   "cell_type": "code",
   "execution_count": 7,
   "id": "aa31058c",
   "metadata": {},
   "outputs": [
    {
     "data": {
      "text/plain": [
       "'20'"
      ]
     },
     "execution_count": 7,
     "metadata": {},
     "output_type": "execute_result"
    }
   ],
   "source": [
    "areeba\n"
   ]
  },
  {
   "cell_type": "code",
   "execution_count": 8,
   "id": "ef6ffade",
   "metadata": {},
   "outputs": [
    {
     "data": {
      "text/plain": [
       "'30'"
      ]
     },
     "execution_count": 8,
     "metadata": {},
     "output_type": "execute_result"
    }
   ],
   "source": [
    "naz"
   ]
  },
  {
   "cell_type": "code",
   "execution_count": 9,
   "id": "01708802",
   "metadata": {},
   "outputs": [
    {
     "ename": "TypeError",
     "evalue": "can only concatenate str (not \"int\") to str",
     "output_type": "error",
     "traceback": [
      "\u001b[1;31m---------------------------------------------------------------------------\u001b[0m",
      "\u001b[1;31mTypeError\u001b[0m                                 Traceback (most recent call last)",
      "\u001b[1;32m<ipython-input-9-a7f4ab27e677>\u001b[0m in \u001b[0;36m<module>\u001b[1;34m\u001b[0m\n\u001b[1;32m----> 1\u001b[1;33m \u001b[0mareeba\u001b[0m\u001b[1;33m+\u001b[0m\u001b[1;36m1\u001b[0m\u001b[1;33m\u001b[0m\u001b[1;33m\u001b[0m\u001b[0m\n\u001b[0m",
      "\u001b[1;31mTypeError\u001b[0m: can only concatenate str (not \"int\") to str"
     ]
    }
   ],
   "source": [
    "areeba+1"
   ]
  },
  {
   "cell_type": "code",
   "execution_count": null,
   "id": "ec698ec1",
   "metadata": {},
   "outputs": [],
   "source": [
    "##type casting \n",
    "#changing the dataa dype of value to another data type is called type casting"
   ]
  },
  {
   "cell_type": "code",
   "execution_count": 10,
   "id": "a27b4d79",
   "metadata": {},
   "outputs": [
    {
     "data": {
      "text/plain": [
       "int"
      ]
     },
     "execution_count": 10,
     "metadata": {},
     "output_type": "execute_result"
    }
   ],
   "source": [
    "type(100)"
   ]
  },
  {
   "cell_type": "code",
   "execution_count": 11,
   "id": "339af393",
   "metadata": {},
   "outputs": [
    {
     "data": {
      "text/plain": [
       "str"
      ]
     },
     "execution_count": 11,
     "metadata": {},
     "output_type": "execute_result"
    }
   ],
   "source": [
    "type(str(100))"
   ]
  },
  {
   "cell_type": "code",
   "execution_count": 12,
   "id": "1273320b",
   "metadata": {},
   "outputs": [
    {
     "data": {
      "text/plain": [
       "int"
      ]
     },
     "execution_count": 12,
     "metadata": {},
     "output_type": "execute_result"
    }
   ],
   "source": [
    "type(int(\"500\"))"
   ]
  },
  {
   "cell_type": "code",
   "execution_count": 15,
   "id": "3b5868a4",
   "metadata": {},
   "outputs": [
    {
     "data": {
      "text/plain": [
       "str"
      ]
     },
     "execution_count": 15,
     "metadata": {},
     "output_type": "execute_result"
    }
   ],
   "source": [
    "type(str(\"areeba\"))"
   ]
  },
  {
   "cell_type": "code",
   "execution_count": 16,
   "id": "ba0ef1d3",
   "metadata": {},
   "outputs": [
    {
     "data": {
      "text/plain": [
       "'pakistan'"
      ]
     },
     "execution_count": 16,
     "metadata": {},
     "output_type": "execute_result"
    }
   ],
   "source": [
    "country=\"Pakistan\"\n",
    "country.lower()"
   ]
  },
  {
   "cell_type": "code",
   "execution_count": 17,
   "id": "0a300bf7",
   "metadata": {},
   "outputs": [
    {
     "data": {
      "text/plain": [
       "'PAKISTAN'"
      ]
     },
     "execution_count": 17,
     "metadata": {},
     "output_type": "execute_result"
    }
   ],
   "source": [
    "country=\"Pakistan\"\n",
    "country.upper()"
   ]
  },
  {
   "cell_type": "code",
   "execution_count": 18,
   "id": "ecc4db64",
   "metadata": {},
   "outputs": [
    {
     "data": {
      "text/plain": [
       "'Hi, welcome to python world!'"
      ]
     },
     "execution_count": 18,
     "metadata": {},
     "output_type": "execute_result"
    }
   ],
   "source": [
    "sentence=\"hi, welcome to python world!\"\n",
    "sentence.capitalize()"
   ]
  },
  {
   "cell_type": "code",
   "execution_count": 23,
   "id": "ffd9238a",
   "metadata": {},
   "outputs": [
    {
     "data": {
      "text/plain": [
       "1"
      ]
     },
     "execution_count": 23,
     "metadata": {},
     "output_type": "execute_result"
    }
   ],
   "source": [
    "sentence.count('p')"
   ]
  },
  {
   "cell_type": "code",
   "execution_count": 35,
   "id": "7668a196",
   "metadata": {},
   "outputs": [
    {
     "data": {
      "text/plain": [
       "False"
      ]
     },
     "execution_count": 35,
     "metadata": {},
     "output_type": "execute_result"
    }
   ],
   "source": [
    "sentence.endswith('ld')"
   ]
  },
  {
   "cell_type": "code",
   "execution_count": 36,
   "id": "493cac5c",
   "metadata": {},
   "outputs": [
    {
     "data": {
      "text/plain": [
       "True"
      ]
     },
     "execution_count": 36,
     "metadata": {},
     "output_type": "execute_result"
    }
   ],
   "source": [
    "sentence.startswith('h')"
   ]
  },
  {
   "cell_type": "code",
   "execution_count": 37,
   "id": "21f53eca",
   "metadata": {},
   "outputs": [
    {
     "data": {
      "text/plain": [
       "4"
      ]
     },
     "execution_count": 37,
     "metadata": {},
     "output_type": "execute_result"
    }
   ],
   "source": [
    "sentence.find('w')"
   ]
  },
  {
   "cell_type": "code",
   "execution_count": 51,
   "id": "1aa05792",
   "metadata": {},
   "outputs": [],
   "source": [
    "# indexing\n",
    "#     -15     -7    -1\n",
    "text=\"Hello my Friends\"\n",
    "#     0123456789101112131415"
   ]
  },
  {
   "cell_type": "code",
   "execution_count": 52,
   "id": "58a941df",
   "metadata": {},
   "outputs": [
    {
     "data": {
      "text/plain": [
       "'l'"
      ]
     },
     "execution_count": 52,
     "metadata": {},
     "output_type": "execute_result"
    }
   ],
   "source": [
    "text[3]"
   ]
  },
  {
   "cell_type": "code",
   "execution_count": 53,
   "id": "a301074c",
   "metadata": {},
   "outputs": [
    {
     "data": {
      "text/plain": [
       "'s'"
      ]
     },
     "execution_count": 53,
     "metadata": {},
     "output_type": "execute_result"
    }
   ],
   "source": [
    "text[15]"
   ]
  },
  {
   "cell_type": "code",
   "execution_count": 54,
   "id": "97ebe537",
   "metadata": {},
   "outputs": [
    {
     "data": {
      "text/plain": [
       "'H'"
      ]
     },
     "execution_count": 54,
     "metadata": {},
     "output_type": "execute_result"
    }
   ],
   "source": [
    "text[0]"
   ]
  },
  {
   "cell_type": "code",
   "execution_count": 55,
   "id": "b2567944",
   "metadata": {},
   "outputs": [
    {
     "data": {
      "text/plain": [
       "' '"
      ]
     },
     "execution_count": 55,
     "metadata": {},
     "output_type": "execute_result"
    }
   ],
   "source": [
    "text[5]"
   ]
  },
  {
   "cell_type": "code",
   "execution_count": 56,
   "id": "6b3a83d4",
   "metadata": {},
   "outputs": [
    {
     "data": {
      "text/plain": [
       "'e'"
      ]
     },
     "execution_count": 56,
     "metadata": {},
     "output_type": "execute_result"
    }
   ],
   "source": [
    "text[-4]"
   ]
  },
  {
   "cell_type": "code",
   "execution_count": 57,
   "id": "af81b743",
   "metadata": {},
   "outputs": [
    {
     "data": {
      "text/plain": [
       "'Hello my Friends'"
      ]
     },
     "execution_count": 57,
     "metadata": {},
     "output_type": "execute_result"
    }
   ],
   "source": [
    "text"
   ]
  },
  {
   "cell_type": "code",
   "execution_count": 58,
   "id": "0789af58",
   "metadata": {},
   "outputs": [
    {
     "data": {
      "text/plain": [
       "'s'"
      ]
     },
     "execution_count": 58,
     "metadata": {},
     "output_type": "execute_result"
    }
   ],
   "source": [
    "text[-1]"
   ]
  },
  {
   "cell_type": "code",
   "execution_count": 59,
   "id": "8e3b986e",
   "metadata": {},
   "outputs": [
    {
     "data": {
      "text/plain": [
       "'d'"
      ]
     },
     "execution_count": 59,
     "metadata": {},
     "output_type": "execute_result"
    }
   ],
   "source": [
    "text[-2]"
   ]
  },
  {
   "cell_type": "code",
   "execution_count": 60,
   "id": "1dd736d5",
   "metadata": {},
   "outputs": [
    {
     "data": {
      "text/plain": [
       "1"
      ]
     },
     "execution_count": 60,
     "metadata": {},
     "output_type": "execute_result"
    }
   ],
   "source": [
    "text.find('e')"
   ]
  },
  {
   "cell_type": "code",
   "execution_count": 61,
   "id": "795c0c2a",
   "metadata": {},
   "outputs": [
    {
     "data": {
      "text/plain": [
       "12"
      ]
     },
     "execution_count": 61,
     "metadata": {},
     "output_type": "execute_result"
    }
   ],
   "source": [
    "text.find('e', 2)"
   ]
  },
  {
   "cell_type": "code",
   "execution_count": 62,
   "id": "39a40aab",
   "metadata": {},
   "outputs": [
    {
     "data": {
      "text/plain": [
       "7"
      ]
     },
     "execution_count": 62,
     "metadata": {},
     "output_type": "execute_result"
    }
   ],
   "source": [
    "text.index('y')"
   ]
  },
  {
   "cell_type": "code",
   "execution_count": 63,
   "id": "e462d720",
   "metadata": {},
   "outputs": [
    {
     "data": {
      "text/plain": [
       "True"
      ]
     },
     "execution_count": 63,
     "metadata": {},
     "output_type": "execute_result"
    }
   ],
   "source": [
    "text.isalnum()\n",
    "text.isalpha()\n",
    "text.isascii()\n",
    "# Note implement all other function of string"
   ]
  },
  {
   "cell_type": "code",
   "execution_count": 64,
   "id": "49856af7",
   "metadata": {},
   "outputs": [
    {
     "data": {
      "text/plain": [
       "'N'"
      ]
     },
     "execution_count": 64,
     "metadata": {},
     "output_type": "execute_result"
    }
   ],
   "source": [
    "chr(78)"
   ]
  },
  {
   "cell_type": "code",
   "execution_count": 69,
   "id": "17c48088",
   "metadata": {},
   "outputs": [],
   "source": [
    "first_Name=\"Areeba\"\n",
    "last_Name=\"Khan\"\n"
   ]
  },
  {
   "cell_type": "code",
   "execution_count": 72,
   "id": "b3127607",
   "metadata": {},
   "outputs": [
    {
     "name": "stdout",
     "output_type": "stream",
     "text": [
      "Areeba Khan 19\n"
     ]
    }
   ],
   "source": [
    "first_Name=\"Areeba\"\n",
    "last_Name=\"Khan\"\n",
    "\n",
    "print(first_Name+ \" \"+ last_Name +\" \"+ str(19))"
   ]
  },
  {
   "cell_type": "code",
   "execution_count": 84,
   "id": "160c7b9a",
   "metadata": {},
   "outputs": [
    {
     "name": "stdout",
     "output_type": "stream",
     "text": [
      "Enter your name AREEBA\n",
      "Enter your age 19\n",
      "user name is AREEBA and user age is 19\n"
     ]
    }
   ],
   "source": [
    "user_name=(input(\"Enter your name \"))\n",
    "user_age=int(input(\"Enter your age \"))\n",
    "print(\"user name is \"+ user_name+ \" and user age is \"+str(user_age))"
   ]
  },
  {
   "cell_type": "code",
   "execution_count": 85,
   "id": "c2a1b245",
   "metadata": {},
   "outputs": [],
   "source": [
    "after_10_years = user_age + 10"
   ]
  },
  {
   "cell_type": "code",
   "execution_count": 86,
   "id": "0b9a05b1",
   "metadata": {},
   "outputs": [
    {
     "data": {
      "text/plain": [
       "29"
      ]
     },
     "execution_count": 86,
     "metadata": {},
     "output_type": "execute_result"
    }
   ],
   "source": [
    "after_10_years"
   ]
  },
  {
   "cell_type": "code",
   "execution_count": 88,
   "id": "c54441db",
   "metadata": {},
   "outputs": [
    {
     "name": "stdout",
     "output_type": "stream",
     "text": [
      "Enter your name AREEBA\n",
      "Enter your age 19\n"
     ]
    },
    {
     "data": {
      "text/plain": [
       "'user name is AREEBA and user age is 19'"
      ]
     },
     "execution_count": 88,
     "metadata": {},
     "output_type": "execute_result"
    }
   ],
   "source": [
    "## FORMATTING\n",
    "user_name=str(input(\"Enter your name \"))\n",
    "user_age=int(input(\"Enter your age \"))\n",
    "\"user name is {} and user age is {}\".format(user_name,user_age)"
   ]
  },
  {
   "cell_type": "code",
   "execution_count": 92,
   "id": "1214994c",
   "metadata": {},
   "outputs": [
    {
     "data": {
      "text/plain": [
       "'user name is Hassan and age is 50 '"
      ]
     },
     "execution_count": 92,
     "metadata": {},
     "output_type": "execute_result"
    }
   ],
   "source": [
    "\"user name is {0} and age is {1} \".format(\"Hassan\",50)"
   ]
  },
  {
   "cell_type": "code",
   "execution_count": 94,
   "id": "8b6ab4cb",
   "metadata": {},
   "outputs": [
    {
     "data": {
      "text/plain": [
       "'user name is Hassan and age is 50 Hassan'"
      ]
     },
     "execution_count": 94,
     "metadata": {},
     "output_type": "execute_result"
    }
   ],
   "source": [
    "\"user name is {0} and age is {1} {0}\".format(\"Hassan\",50)"
   ]
  },
  {
   "cell_type": "code",
   "execution_count": null,
   "id": "b570efd4",
   "metadata": {},
   "outputs": [],
   "source": [
    "## f-method ##"
   ]
  },
  {
   "cell_type": "code",
   "execution_count": 4,
   "id": "b2e0f01f",
   "metadata": {},
   "outputs": [
    {
     "name": "stdout",
     "output_type": "stream",
     "text": [
      "Enter your name areeba\n",
      "Enter your age 19\n"
     ]
    },
    {
     "data": {
      "text/plain": [
       "'user name is areeba and user age is 19 '"
      ]
     },
     "execution_count": 4,
     "metadata": {},
     "output_type": "execute_result"
    }
   ],
   "source": [
    "user_name =input(\"Enter your name \")\n",
    "user_age = int(input(\"Enter your age \"))\n",
    "f\"user name is {user_name} and user age is {user_age} \"\n",
    "\n"
   ]
  },
  {
   "cell_type": "code",
   "execution_count": 7,
   "id": "72579846",
   "metadata": {},
   "outputs": [
    {
     "name": "stdout",
     "output_type": "stream",
     "text": [
      "I am learning python \n",
      "we are in karachi\n"
     ]
    }
   ],
   "source": [
    "print(\"I am learning python \\nwe are in karachi\")"
   ]
  },
  {
   "cell_type": "code",
   "execution_count": 8,
   "id": "e98fa982",
   "metadata": {},
   "outputs": [],
   "source": [
    "# we can make a string using single quote (' ')\n",
    "\n",
    "a_single_quote_string_value='i am single quote string value'\n",
    "\n"
   ]
  },
  {
   "cell_type": "code",
   "execution_count": 9,
   "id": "c8c4c219",
   "metadata": {},
   "outputs": [],
   "source": [
    "# we can make a string using double quote (\" \")\n",
    "\n",
    "a_double_quote_string_value=\" i am double qoute string value\"\n"
   ]
  },
  {
   "cell_type": "code",
   "execution_count": 10,
   "id": "129d8f71",
   "metadata": {},
   "outputs": [],
   "source": [
    "# we can make a string usng triple quote(\"\"\"    \"\"\" )\n",
    "\n",
    "a_triple_quote_string_value= ''' a triple quote string value '''\n",
    "\n",
    "triple_quote_string_value= \"\"\" triple quote string value \"\"\"\n"
   ]
  },
  {
   "cell_type": "code",
   "execution_count": 13,
   "id": "018b0c09",
   "metadata": {},
   "outputs": [
    {
     "name": "stdout",
     "output_type": "stream",
     "text": [
      "Enter your Name AREEBA\n",
      "Enter your Father name SHAMS\n",
      "Enter your course AI\n",
      "Enter your batch 36\n",
      "enter your center SIR SYED UNIVERSITY\n"
     ]
    }
   ],
   "source": [
    "name=input(\"Enter your Name \")\n",
    "father_name=input(\"Enter your Father name \")\n",
    "course =input(\"Enter your course \")\n",
    "batch =input(\"Enter your batch \")\n",
    "centre= input(\"enter your center \")"
   ]
  },
  {
   "cell_type": "code",
   "execution_count": 19,
   "id": "01779a25",
   "metadata": {},
   "outputs": [
    {
     "name": "stdout",
     "output_type": "stream",
     "text": [
      "     \n",
      "        ID CARD\n",
      "        __________\n",
      "        \n",
      "        Name:  AREEBA\n",
      "        \n",
      "        Father : SHAMS\n",
      "        \n",
      "        Course : AI\n",
      "        \n",
      "        Batch  : 36\n",
      "        \n",
      "        Centre : SIR SYED UNIVERSITY\n",
      "        \n",
      "        \n"
     ]
    }
   ],
   "source": [
    "print(f\"\"\"     \n",
    "        ID CARD\n",
    "        __________\n",
    "        \n",
    "        Name:  {name}\n",
    "        \n",
    "        Father : {father_name}\n",
    "        \n",
    "        Course : {course}\n",
    "        \n",
    "        Batch  : {batch}\n",
    "        \n",
    "        Centre : {centre}\n",
    "        \n",
    "        \"\"\")"
   ]
  },
  {
   "cell_type": "code",
   "execution_count": null,
   "id": "213027f8",
   "metadata": {},
   "outputs": [],
   "source": []
  }
 ],
 "metadata": {
  "kernelspec": {
   "display_name": "Python 3",
   "language": "python",
   "name": "python3"
  },
  "language_info": {
   "codemirror_mode": {
    "name": "ipython",
    "version": 3
   },
   "file_extension": ".py",
   "mimetype": "text/x-python",
   "name": "python",
   "nbconvert_exporter": "python",
   "pygments_lexer": "ipython3",
   "version": "3.8.8"
  }
 },
 "nbformat": 4,
 "nbformat_minor": 5
}
